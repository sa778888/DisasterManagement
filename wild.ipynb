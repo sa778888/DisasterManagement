{
 "cells": [
  {
   "cell_type": "code",
   "execution_count": 3,
   "metadata": {},
   "outputs": [
    {
     "name": "stdout",
     "output_type": "stream",
     "text": [
      "Image downloaded as satellite_image.png\n"
     ]
    },
    {
     "name": "stderr",
     "output_type": "stream",
     "text": [
      "WARNING:absl:Compiled the loaded model, but the compiled metrics have yet to be built. `model.compile_metrics` will be empty until you train or evaluate the model.\n"
     ]
    },
    {
     "name": "stdout",
     "output_type": "stream",
     "text": [
      "\u001b[1m1/1\u001b[0m \u001b[32m━━━━━━━━━━━━━━━━━━━━\u001b[0m\u001b[37m\u001b[0m \u001b[1m0s\u001b[0m 307ms/step\n",
      "Predicted: nofire (99.75% confidence)\n"
     ]
    }
   ],
   "source": [
    "from sentinelhub import SHConfig\n",
    "\n",
    "config = SHConfig()\n",
    "config.sh_client_id = \"7a3098a7-bfcd-4bff-baa4-6104fef14169\"\n",
    "config.sh_client_secret = \"bTOS03EAVbfImGlrGqHjMkstr9IJ0aQ1\"\n",
    "config.save()\n",
    "\n",
    "from sentinelhub import SentinelHubRequest, MimeType, CRS, BBox, bbox_to_dimensions, DataCollection\n",
    "\n",
    "# Define latitude & longitude\n",
    "latitude = 28.108601   # Change to your location\n",
    "longitude = 96.509742\n",
    "\n",
    "# Define bounding box (small area)\n",
    "bbox = BBox([longitude - 0.01, latitude - 0.01, longitude + 0.01, latitude + 0.01], CRS.WGS84)\n",
    "\n",
    "# Define image resolution\n",
    "resolution = 2   # 10m per pixel\n",
    "\n",
    "# Get dimensions\n",
    "size = bbox_to_dimensions(bbox, resolution=resolution)\n",
    "\n",
    "# Create request for Sentinel-2 image\n",
    "request = SentinelHubRequest(\n",
    "    evalscript=\"\"\"\n",
    "    // Extract RGB image\n",
    "    function setup() {\n",
    "        return {\n",
    "            input: [\"B04\", \"B03\", \"B02\"],\n",
    "            output: { bands: 3 }\n",
    "        };\n",
    "    }\n",
    "    function evaluatePixel(sample) {\n",
    "        return [sample.B04, sample.B03, sample.B02];\n",
    "    }\n",
    "    \"\"\",\n",
    "    input_data=[SentinelHubRequest.input_data(DataCollection.SENTINEL2_L2A, maxcc=0.1, time_interval=(\"2024-01-01\", \"2024-12-31\"))],  # Fixed maxcc\n",
    "    responses=[SentinelHubRequest.output_response(\"default\", MimeType.PNG)],\n",
    "    bbox=bbox,\n",
    "    size=size\n",
    ")\n",
    "\n",
    "# Get image\n",
    "image = request.get_data()[0]\n",
    "\n",
    "# Save image\n",
    "import imageio\n",
    "imageio.imwrite(\"/home/arshlaan/projext/codathon/satellite_image.png\", image)\n",
    "\n",
    "print(\"Image downloaded as satellite_image.png\")\n",
    "\n",
    "import cv2\n",
    "import numpy as np\n",
    "import tensorflow as tf\n",
    "\n",
    "# Load the trained model\n",
    "model = tf.keras.models.load_model(\"/home/arshlaan/projext/codathon/wildfire.h5\")\n",
    "\n",
    "def preprocess_image(img_path):\n",
    "    \"\"\"\n",
    "    Preprocess a single image to match the model's input format.\n",
    "\n",
    "    Args:\n",
    "        img_path (str): Path to the image file.\n",
    "\n",
    "    Returns:\n",
    "        np.array: Preprocessed image ready for model input.\n",
    "    \"\"\"\n",
    "    image = cv2.imread(img_path)  # Read the image\n",
    "    image = cv2.resize(image, (32, 32))  # Resize to match training dimensions\n",
    "    image = np.array(image, dtype=np.float32) / 255.0  # Normalize to [0,1]\n",
    "    image = np.expand_dims(image, axis=0)  # Add batch dimension\n",
    "    return np.array(image)\n",
    "\n",
    "def predict_image(img_path, class_names):\n",
    "    \"\"\"\n",
    "    Predict the class of an image using the trained model.\n",
    "\n",
    "    Args:\n",
    "        img_path (str): Path to the image file.\n",
    "        class_names (list): List of class labels.\n",
    "\n",
    "    Returns:\n",
    "        str: Predicted class with confidence percentage.\n",
    "    \"\"\"\n",
    "    image = preprocess_image(img_path)\n",
    "    predictions = model.predict(image)  # Get model predictions\n",
    "    predicted_class = np.argmax(predictions)  # Get index of highest probability\n",
    "    confidence = np.max(predictions) * 100  # Convert to percentage\n",
    "\n",
    "    return f\"Predicted: {class_names[predicted_class]} ({confidence:.2f}% confidence)\"\n",
    "\n",
    "# Define class names based on your dataset\n",
    "class_names = [\"nofire\", \"fire\"]  # Replace with actual class names\n",
    "\n",
    "# Example usage\n",
    "img_path = \"//home/arshlaan/projext/codathon/satellite_image.png\"  # Provide the image path\n",
    "result = predict_image(img_path, class_names)\n",
    "print(result)"
   ]
  }
 ],
 "metadata": {
  "kernelspec": {
   "display_name": "fld",
   "language": "python",
   "name": "python3"
  },
  "language_info": {
   "codemirror_mode": {
    "name": "ipython",
    "version": 3
   },
   "file_extension": ".py",
   "mimetype": "text/x-python",
   "name": "python",
   "nbconvert_exporter": "python",
   "pygments_lexer": "ipython3",
   "version": "3.11.2"
  }
 },
 "nbformat": 4,
 "nbformat_minor": 2
}
